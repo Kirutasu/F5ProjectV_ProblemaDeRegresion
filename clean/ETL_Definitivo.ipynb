{
  "cells": [
    {
      "cell_type": "code",
      "execution_count": null,
      "metadata": {
        "id": "BjJBiGP063TV"
      },
      "outputs": [
        {
          "name": "stdout",
          "output_type": "stream",
          "text": [
            "¡Todo funciona perfectamente! 🚀\n"
          ]
        }
      ],
      "source": [
        "# ----------------------------\n",
        "# Manipulación de datos\n",
        "# ----------------------------\n",
        "import numpy as np\n",
        "from scipy import stats\n",
        "import missingno as msno\n",
        "import polars as pl\n",
        "import kagglehub\n",
        "\n",
        "# ----------------------------\n",
        "# Visualización\n",
        "# ----------------------------\n",
        "import matplotlib.pyplot as plt\n",
        "import seaborn as sns\n",
        "import plotly.graph_objects as go\n",
        "from plotly.subplots import make_subplots\n",
        "\n",
        "# ----------------------------\n",
        "# Preprocesamiento y reducción de dimensionalidad\n",
        "# ----------------------------\n",
        "from sklearn.preprocessing import StandardScaler\n",
        "from sklearn.decomposition import PCA\n",
        "\n",
        "# ----------------------------\n",
        "# Modelado\n",
        "# ----------------------------\n",
        "from sklearn.model_selection import train_test_split\n",
        "from sklearn.ensemble import RandomForestRegressor\n",
        "from sklearn.metrics import mean_squared_error, mean_absolute_error, r2_score\n",
        "\n",
        "# ----------------------------\n",
        "# Producción / App\n",
        "# ----------------------------\n",
        "import streamlit as st\n",
        "import os\n",
        "\n",
        "print(\"¡Todo funciona perfectamente! 🚀\")"
      ]
    },
    {
      "cell_type": "code",
      "execution_count": null,
      "metadata": {},
      "outputs": [
        {
          "name": "stdout",
          "output_type": "stream",
          "text": [
            "Authentication successful!\n"
          ]
        }
      ],
      "source": [
        "import os\n",
        "\n",
        "# Set credentials BEFORE importing the KaggleApi\n",
        "os.environ['KAGGLE_USERNAME'] = 'jabeichbenavides123'  # e.g., 'johnsmith'\n",
        "os.environ['KAGGLE_KEY'] = 'dc9e4472d88a97944f31b130d4134a0'            # e.g., '8a1b2c3d4e5f6g7h8i9j0'\n",
        "\n",
        "# Now import and authenticate\n",
        "from kaggle.api.kaggle_api_extended import KaggleApi\n",
        "api = KaggleApi()\n",
        "api.authenticate()  # This should now work\n",
        "\n",
        "print(\"Authentication successful!\")\n"
      ]
    },
    {
      "cell_type": "code",
      "execution_count": 105,
      "metadata": {},
      "outputs": [
        {
          "name": "stdout",
          "output_type": "stream",
          "text": [
            "Dataset URL: https://www.kaggle.com/datasets/abdulmalik1518/cars-datasets-2025\n",
            "shape: (5, 11)\n",
            "┌────────────┬────────────┬────────────┬───────────┬───┬───────────┬───────────┬───────┬───────────┐\n",
            "│ Company    ┆ Cars Names ┆ Engines    ┆ CC/Batter ┆ … ┆ Cars      ┆ Fuel      ┆ Seats ┆ Torque    │\n",
            "│ Names      ┆ ---        ┆ ---        ┆ y         ┆   ┆ Prices    ┆ Types     ┆ ---   ┆ ---       │\n",
            "│ ---        ┆ str        ┆ str        ┆ Capacity  ┆   ┆ ---       ┆ ---       ┆ str   ┆ str       │\n",
            "│ str        ┆            ┆            ┆ ---       ┆   ┆ str       ┆ str       ┆       ┆           │\n",
            "│            ┆            ┆            ┆ str       ┆   ┆           ┆           ┆       ┆           │\n",
            "╞════════════╪════════════╪════════════╪═══════════╪═══╪═══════════╪═══════════╪═══════╪═══════════╡\n",
            "│ FERRARI    ┆ SF90       ┆ V8         ┆ 3990 cc   ┆ … ┆ $1,100,00 ┆ plug in   ┆ 2     ┆ 800 Nm    │\n",
            "│            ┆ STRADALE   ┆            ┆           ┆   ┆ 0         ┆ hyrbrid   ┆       ┆           │\n",
            "│ ROLLS      ┆ PHANTOM    ┆ V12        ┆ 6749 cc   ┆ … ┆ $460,000  ┆ Petrol    ┆ 5     ┆ 900 Nm    │\n",
            "│ ROYCE      ┆            ┆            ┆           ┆   ┆           ┆           ┆       ┆           │\n",
            "│ Ford       ┆ KA+        ┆ 1.2L       ┆ 1,200 cc  ┆ … ┆ $12,000-$ ┆ Petrol    ┆ 5     ┆ 100 - 140 │\n",
            "│            ┆            ┆ Petrol     ┆           ┆   ┆ 15,000    ┆           ┆       ┆ Nm        │\n",
            "│ MERCEDES   ┆  GT 63 S   ┆ V8         ┆ 3,982 cc  ┆ … ┆ $161,000  ┆ Petrol    ┆ 4     ┆ 900 Nm    │\n",
            "│ AUDI       ┆ AUDI R8 Gt ┆ V10        ┆ 5,204 cc  ┆ … ┆ $253,290  ┆ Petrol    ┆ 2     ┆ 560 Nm    │\n",
            "└────────────┴────────────┴────────────┴───────────┴───┴───────────┴───────────┴───────┴───────────┘\n"
          ]
        }
      ],
      "source": [
        "\n",
        "# Ruta donde se descargará y descomprimirá el dataset\n",
        "data_path = r\"C:\\Users\\Coder\\Documents\\REGRESIONES\\F5ProjectV_ProblemaDeRegresion\\data\"\n",
        "\n",
        "# Descargar y descomprimir, reemplazando si ya existe\n",
        "api.dataset_download_files(\n",
        "    \"abdulmalik1518/cars-datasets-2025\",\n",
        "    path=data_path,\n",
        "    unzip=True,\n",
        "    force=True  # <-- Sobrescribe si ya existe\n",
        ")\n",
        "\n",
        "# Detectar automáticamente el CSV dentro de la carpeta\n",
        "csv_files = [f for f in os.listdir(data_path) if f.lower().endswith(\".csv\")]\n",
        "if not csv_files:\n",
        "    raise FileNotFoundError(\"No se encontró ningún archivo CSV en la carpeta de destino.\")\n",
        "csv_file = os.path.join(data_path, csv_files[0])\n",
        "\n",
        "# Leer CSV con Polars\n",
        "df = pl.read_csv(csv_file, encoding=\"latin1\")\n",
        "\n",
        "# Mostrar primeras filas\n",
        "print(df.head())\n"
      ]
    },
    {
      "cell_type": "code",
      "execution_count": 106,
      "metadata": {
        "colab": {
          "base_uri": "https://localhost:8080/"
        },
        "id": "LuQkCcUN6g7N",
        "outputId": "8db33ae6-e5dd-428b-ffc5-a469458c90e5"
      },
      "outputs": [],
      "source": [
        "# CAMBIO DE NOMBRES DE VARIABLES\n",
        "\n",
        "# 1. Renombrar columnas para mayor claridad y consistencia\n",
        "df = df.rename({\n",
        "    \"Company Names\": \"Brands\",                       # Nombre de la marca\n",
        "    \"Cars Names\": \"Model\",                           # Nombre del modelo\n",
        "    \"CC/Battery Capacity\": \"Engine_capacity_in_cc\", # Capacidad del motor o batería\n",
        "    \"HorsePower\": \"HorsePower_in_HP\",               # Potencia en caballos de fuerza\n",
        "    \"Total Speed\": \"Max_speed_in_km/h\",             # Velocidad máxima en km/h\n",
        "    \"Performance(0 - 100 )KM/H\": \"Time_to_100kmph_sec\", # Tiempo de 0 a 100 km/h en segundos\n",
        "    \"Cars Prices\": \"Price_$\",                        # Precio en dólares\n",
        "    \"Fuel Types\": \"Fuel\",                             # Tipo de combustible\n",
        "    \"Torque\": \"Torque_in_Nm\"                          # Torque en Newton-metros\n",
        "})\n",
        "\n",
        "# 2. Crear una columna \"id\" como identificador único para cada fila\n",
        "# pl.arange(0, pl.len()) genera números desde 0 hasta el número de filas\n",
        "# .alias(\"id\") le asigna el nombre \"id\" a esta nueva columna\n",
        "df = df.with_columns(\n",
        "    pl.arange(0, pl.len()).alias(\"id\")\n",
        ")\n",
        "\n",
        "# 3. Seleccionar y reordenar solo las columnas necesarias\n",
        "# Esto limpia el DataFrame y garantiza que tenga las columnas que nos interesan\n",
        "df = df.select([\n",
        "    \"id\",\n",
        "    \"Brands\",                # Marca del auto\n",
        "    \"Model\",                 # Modelo del auto\n",
        "    \"Engines\",               # Tipo de motor\n",
        "    \"Engine_capacity_in_cc\", # Capacidad del motor/batería\n",
        "    \"HorsePower_in_HP\",      # Potencia\n",
        "    \"Max_speed_in_km/h\",     # Velocidad máxima\n",
        "    \"Time_to_100kmph_sec\",   # Tiempo de aceleración 0-100 km/h\n",
        "    \"Price_$\",               # Precio\n",
        "    \"Fuel\",                  # Tipo de combustible\n",
        "    \"Seats\",                 # Número de asientos\n",
        "    \"Torque_in_Nm\"           # Torque\n",
        "])\n",
        "\n"
      ]
    },
    {
      "cell_type": "code",
      "execution_count": 107,
      "metadata": {
        "colab": {
          "base_uri": "https://localhost:8080/"
        },
        "id": "u9AlDhir6m78",
        "outputId": "36a5a19b-8819-47bb-c96b-3b93f7a91667"
      },
      "outputs": [
        {
          "name": "stdout",
          "output_type": "stream",
          "text": [
            "\n",
            "Resumen de datos:\n",
            "shape: (9, 13)\n",
            "┌────────────┬────────────┬────────┬────────────┬───┬────────────┬────────────┬───────┬────────────┐\n",
            "│ statistic  ┆ id         ┆ Brands ┆ Model      ┆ … ┆ Price_$    ┆ Fuel       ┆ Seats ┆ Torque_in_ │\n",
            "│ ---        ┆ ---        ┆ ---    ┆ ---        ┆   ┆ ---        ┆ ---        ┆ ---   ┆ Nm         │\n",
            "│ str        ┆ f64        ┆ str    ┆ str        ┆   ┆ str        ┆ str        ┆ str   ┆ ---        │\n",
            "│            ┆            ┆        ┆            ┆   ┆            ┆            ┆       ┆ str        │\n",
            "╞════════════╪════════════╪════════╪════════════╪═══╪════════════╪════════════╪═══════╪════════════╡\n",
            "│ count      ┆ 1218.0     ┆ 1218   ┆ 1218       ┆ … ┆ 1218       ┆ 1218       ┆ 1218  ┆ 1218       │\n",
            "│ null_count ┆ 0.0        ┆ 0      ┆ 0          ┆ … ┆ 0          ┆ 0          ┆ 0     ┆ 0          │\n",
            "│ mean       ┆ 608.5      ┆ null   ┆ null       ┆ … ┆ null       ┆ null       ┆ null  ┆ null       │\n",
            "│ std        ┆ 351.750622 ┆ null   ┆ null       ┆ … ┆ null       ┆ null       ┆ null  ┆ null       │\n",
            "│ min        ┆ 0.0        ┆ ASTON  ┆  GT 63 S   ┆ … ┆ $1,000,000 ┆ CNG/Petrol ┆ 1     ┆ 1,050 -    │\n",
            "│            ┆            ┆ MARTIN ┆            ┆   ┆            ┆            ┆       ┆ 1,200 Nm   │\n",
            "│ 25%        ┆ 304.0      ┆ null   ┆ null       ┆ … ┆ null       ┆ null       ┆ null  ┆ null       │\n",
            "│ 50%        ┆ 609.0      ┆ null   ┆ null       ┆ … ┆ null       ┆ null       ┆ null  ┆ null       │\n",
            "│ 75%        ┆ 913.0      ┆ null   ┆ null       ┆ … ┆ null       ┆ null       ┆ null  ┆ null       │\n",
            "│ max        ┆ 1217.0     ┆ Volvo  ┆ i-MiEV     ┆ … ┆  33,000   ┆ plug in    ┆ 9     ┆ N/A        │\n",
            "│            ┆            ┆        ┆ (Electric) ┆   ┆            ┆ hyrbrid    ┆       ┆            │\n",
            "└────────────┴────────────┴────────┴────────────┴───┴────────────┴────────────┴───────┴────────────┘\n",
            "\n",
            "Valores nulos por columna:\n",
            "shape: (1, 12)\n",
            "┌─────┬────────┬───────┬─────────┬───┬─────────┬──────┬───────┬──────────────┐\n",
            "│ id  ┆ Brands ┆ Model ┆ Engines ┆ … ┆ Price_$ ┆ Fuel ┆ Seats ┆ Torque_in_Nm │\n",
            "│ --- ┆ ---    ┆ ---   ┆ ---     ┆   ┆ ---     ┆ ---  ┆ ---   ┆ ---          │\n",
            "│ u32 ┆ u32    ┆ u32   ┆ u32     ┆   ┆ u32     ┆ u32  ┆ u32   ┆ u32          │\n",
            "╞═════╪════════╪═══════╪═════════╪═══╪═════════╪══════╪═══════╪══════════════╡\n",
            "│ 0   ┆ 0      ┆ 0     ┆ 0       ┆ … ┆ 0       ┆ 0    ┆ 0     ┆ 0            │\n",
            "└─────┴────────┴───────┴─────────┴───┴─────────┴──────┴───────┴──────────────┘\n",
            "\n",
            "Valores únicos por columna:\n",
            "id: 1218\n",
            "Brands: 37\n",
            "Model: 1201\n",
            "Engines: 356\n",
            "Engine_capacity_in_cc: 313\n",
            "HorsePower_in_HP: 456\n",
            "Max_speed_in_km/h: 114\n",
            "Time_to_100kmph_sec: 181\n",
            "Price_$: 535\n",
            "Fuel: 23\n",
            "Seats: 19\n",
            "Torque_in_Nm: 264\n"
          ]
        }
      ],
      "source": [
        "# Descripciones de Datos iniciales\n",
        "print(\"\\nResumen de datos:\")\n",
        "print(df.describe())\n",
        "\n",
        "# Valores nulos\n",
        "print(\"\\nValores nulos por columna:\")\n",
        "print(df.null_count())\n",
        "\n",
        "# Número de valores únicos por columna\n",
        "n_unique = {col: df[col].n_unique() for col in df.columns}\n",
        "print(\"\\nValores únicos por columna:\")\n",
        "for col, count in n_unique.items():\n",
        "    print(f\"{col}: {count}\")"
      ]
    },
    {
      "cell_type": "markdown",
      "metadata": {
        "id": "yvXA2QkFWTEF"
      },
      "source": [
        "##1. Resumen de datos\n",
        "\n",
        "El bloque df.describe() genera un resumen estadístico del DataFrame. Muestra información como el número de filas (count), la cantidad de valores nulos (null_count), medidas estadísticas básicas para columnas numéricas (mean, std, min, 25%, 50%, 75%, max) y los tipos de datos de cada columna (f64, str, etc.). En este caso, la tabla indica que hay 1218 filas y 13 columnas, con columnas numéricas como id que tienen estadísticas completas, y columnas de texto (Brands, Model) que muestran conteos y valores extremos. Esto permite identificar rápidamente la estructura, posibles inconsistencias y rangos de valores en el dataset.\n",
        "\n",
        "##2. Valores nulos por columna\n",
        "\n",
        "El bloque df.null_count() calcula la cantidad de valores nulos en cada columna del DataFrame. La salida indica que todas las columnas tienen cero valores nulos, lo que significa que el dataset está completo y no requiere imputación de datos. Cada columna se representa con su tipo (u32 para enteros no negativos) y el conteo de nulos por fila. Este análisis es fundamental en la limpieza de datos, ya que los valores faltantes pueden afectar cálculos estadísticos, modelado predictivo o agregaciones, y aquí confirma que no hay problemas de datos faltantes en ninguna columna.\n",
        "\n",
        "##3. Valores únicos por columna\n",
        "\n",
        "Este bloque calcula la cantidad de valores únicos en cada columna, mostrando diversidad y cardinalidad de los datos. Por ejemplo, id tiene 1218 valores únicos (uno por fila), Brands tiene 37 marcas diferentes y Model 1201 modelos distintos. Columnas numéricas como HorsePower_in_HP y Engine_capacity_in_cc tienen cientos de valores únicos, mientras que variables categóricas como Fuel y Seats tienen pocos valores distintos. Esta información es útil para identificar columnas categóricas frente a continuas, detectar redundancias y entender la granularidad del dataset, lo que ayuda a decidir transformaciones, agrupaciones o codificación en futuros análisis."
      ]
    },
    {
      "cell_type": "code",
      "execution_count": 108,
      "metadata": {
        "colab": {
          "base_uri": "https://localhost:8080/"
        },
        "id": "58b746f9",
        "outputId": "dcbdb4e4-f186-4d2b-9398-d7fdb621c36d"
      },
      "outputs": [
        {
          "name": "stdout",
          "output_type": "stream",
          "text": [
            "id: Int64\n",
            "Brands: String\n",
            "Model: String\n",
            "Engines: String\n",
            "Engine_capacity_in_cc: String\n",
            "HorsePower_in_HP: String\n",
            "Max_speed_in_km/h: String\n",
            "Time_to_100kmph_sec: String\n",
            "Price_$: String\n",
            "Fuel: String\n",
            "Seats: String\n",
            "Torque_in_Nm: String\n"
          ]
        }
      ],
      "source": [
        "# Forma alternativa de inspeccionar el esquema\n",
        "for name, dtype in df.schema.items():\n",
        "    print(f\"{name}: {dtype}\")"
      ]
    },
    {
      "cell_type": "markdown",
      "metadata": {
        "id": "UWPRglKfW3v6"
      },
      "source": [
        "Este bloque describe el esquema de un DataFrame, indicando el tipo de datos de cada columna, lo cual es fundamental para análisis y limpieza de datos.\n",
        "\n",
        "**id:** Int64 es un identificador único numérico para cada fila, útil para referenciar registros y ordenar datos.\n",
        "\n",
        "Columnas como **Brands**, **Model**, **Engines**, **Fuel** son de **tipo String**, almacenando texto que describe **marca**, **modelo**, **tipo de motor** y **combustible**.\n",
        "\n",
        "Columnas de características como **Engine_capacity_in_cc, HorsePower_in_HP, Max_speed_in_km/h, Time_to_100kmph_sec, Price_$, Seats y Torque_in_Nm** también son String, por los formatos mixtos o símbolos.\n",
        "\n",
        "Conocer estos tipos permite planificar conversión a numérico, limpieza y análisis estadístico correcto del dataset."
      ]
    },
    {
      "cell_type": "code",
      "execution_count": 109,
      "metadata": {
        "colab": {
          "base_uri": "https://localhost:8080/"
        },
        "id": "4oMPs6I7TkRP",
        "outputId": "7bc48a10-3e87-4012-c1d0-a5559353f8da"
      },
      "outputs": [
        {
          "name": "stdout",
          "output_type": "stream",
          "text": [
            "\n",
            "============================================================\n",
            "ANÁLISIS DE VALORES ÚNICOS POR COLUMNA\n",
            "============================================================\n",
            "\n",
            "Columna: id\n",
            "Número de valores únicos: 1218\n",
            "Algunos valores únicos (muestra):\n",
            "[0, 1, 10, 100, 1000, 1001, 1002, 1003, 1004, 1005, 1006, 1007, 1008, 1009, 101, 1010, 1011, 1012, 1013, 1014]\n",
            "... y 1198 valores más\n",
            "Valor más frecuente: 0\n",
            "------------------------------------------------------------\n",
            "\n",
            "Columna: Brands\n",
            "Número de valores únicos: 37\n",
            "Valores únicos:\n",
            "['ASTON MARTIN', 'AUDI', 'Acura', 'BENTLEY', 'BMW', 'Bugatti', 'Cadillac', 'Chevrolet', 'FERRARI', 'Ford', 'GMC', 'HONDA', 'HYUNDAI', 'Jaguar Land Rover', 'Jeep', 'KIA', 'KIA  ', 'Kia', 'LAMBORGHINI', 'MAHINDRA', 'MARUTI SUZUKI', 'MERCEDES', 'Mazda', 'Mitsubishi', 'NISSAN', 'Nissan', 'Peugeot', 'Porsche', 'ROLLS ROYCE', 'ROLLS ROYCE ', 'TOYOTA', 'Tata Motors', 'Tesla', 'Toyota', 'VOLVO', 'Volkswagen', 'Volvo']\n",
            "Valor más frecuente: Nissan\n",
            "------------------------------------------------------------\n",
            "\n",
            "Columna: Model\n",
            "Número de valores únicos: 1201\n",
            "Algunos valores únicos (muestra):\n",
            "[' GT 63 S', '100NX', '114D', '114D SPORT LINE', '114i', '116D', '116D ADVANTAGE', '116D EFFICIENTDYNAMICS', '116i', '116i EFFICIENTDYNAMICS', '118D', '118D SPORT LINE', '118i', '118i M SPORT', '118i SHADOW LINE', '118i SPORTLINE', '118i URBAN LINE', '118i XDRIVE', '1200', '120D EFFICIENTDYNAMICS']\n",
            "... y 1181 valores más\n",
            "Valor más frecuente: Tiago EV\n",
            "------------------------------------------------------------\n",
            "\n",
            "Columna: Engines\n",
            "Número de valores únicos: 356\n",
            "Algunos valores únicos (muestra):\n",
            "['0.36L Inline-2', '0.66L Inline-3', '0.7L 3-Cylinder', '1.0L EcoBoost / 1.5L', '1.0L EcoBoost / 1.5L / 2.0L', '1.0L I3 Turbo', '1.0L I3 Turbo / 1.5L I4 Turbo', '1.0L Inline-2 (Wankel)', '1.0L Turbo I3', '1.0L Turbo I3 / 1.5L Turbo I4', '1.0L Turbo I3 / 1.6L Diesel', '1.0L Turbo Inline-3 / 2.0L', '1.0L Turbo Inline-4', '1.0L Turbocharged Inline-3', '1.0L,INLINE-3', '1.1L / 1.5L MIVEC', '1.2L Diesel I3', '1.2L Hybrid', '1.2L I4 Gas', '1.2L I4 Gas / 1.4L I4 Gas']\n",
            "... y 336 valores más\n",
            "Valor más frecuente: I4\n",
            "------------------------------------------------------------\n",
            "\n",
            "Columna: Engine_capacity_in_cc\n",
            "Número de valores únicos: 313\n",
            "Algunos valores únicos (muestra):\n",
            "['-', '1,000 - 1,500 cc', '1,000 - 2,000 cc', '1,000 cc', '1,100 - 1,500 cc', '1,197 cc', '1,199 cc', '1,200 cc', '1,298 cc', '1,300 cc', '1,308 cc', '1,396 cc', '1,462 cc', '1,490 cc', '1,496 cc', '1,497 cc', '1,498 cc', '1,499 cc', '1,500 - 2,000 cc', '1,500 - 2,500 cc']\n",
            "... y 293 valores más\n",
            "Valor más frecuente: 2,000 cc\n",
            "------------------------------------------------------------\n",
            "\n",
            "Columna: HorsePower_in_HP\n",
            "Número de valores únicos: 456\n",
            "Algunos valores únicos (muestra):\n",
            "['1,020 hp', '1,288 hp', '100 - 150 hp', '100 HP', '100 hp', '1000 hp', '102 - 150 hp', '102 - 177 hp', '102 - 204 hp', '102 HP', '102 hp', '103 hp', '104 HP', '105 - 110 hp', '105 - 210 hp', '105 HP', '105 hp', '106 hp', '108 hp', '109 HP']\n",
            "... y 436 valores más\n",
            "Valor más frecuente: 355 hp\n",
            "------------------------------------------------------------\n",
            "\n",
            "Columna: Max_speed_in_km/h\n",
            "Número de valores únicos: 114\n",
            "Algunos valores únicos (muestra):\n",
            "['100 km/h', '105 km/h', '110 km/h', '120 km/h', '125 km/h', '130 km/h', '138 km/h', '140 km/h', '145 km/h', '148 km/h', '150 km/h', '155 km/h', '160 km/h', '162 km/h', '165 km/h', '168 km/h', '170 km/h', '175 km/h', '177 km/h', '180 km/h']\n",
            "... y 94 valores más\n",
            "Valor más frecuente: 250 km/h\n",
            "------------------------------------------------------------\n",
            "\n",
            "Columna: Time_to_100kmph_sec\n",
            "Número de valores únicos: 181\n",
            "Algunos valores únicos (muestra):\n",
            "[' 6.1 sec', '1.9 sec', '10 sec', '10. 5 sec', '10.0 sec', '10.1 sec', '10.2 sec', '10.3 sec', '10.4 sec', '10.5 sec', '10.6 sec', '10.7 sec', '10.8 sec', '10.9 sec', '11 sec', '11.0 sec', '11.2 sec', '11.5 sec', '11.7 sec', '11.9 sec']\n",
            "... y 161 valores más\n",
            "Valor más frecuente: 6.5 sec\n",
            "------------------------------------------------------------\n",
            "\n",
            "Columna: Price_$\n",
            "Número de valores únicos: 535\n",
            "Algunos valores únicos (muestra):\n",
            "['$1,000,000 ', '$1,100,000 ', '$1,300,000 ', '$1,700,000 ', '$10,000 ', '$10,000 - $12,000', '$10,400 ', '$10,500 ', '$100,000 ', '$100,200 ', '$101,000 ', '$101,400 ', '$102,000 ', '$103,800 ', '$104,000 ', '$104,595 ', '$105,000 ', '$105,600 ', '$106,100 ', '$106,500 ']\n",
            "... y 515 valores más\n",
            "Valor más frecuente: $35,000 \n",
            "------------------------------------------------------------\n",
            "\n",
            "Columna: Fuel\n",
            "Número de valores únicos: 23\n",
            "Valores únicos:\n",
            "['CNG/Petrol', 'Diesel', 'Diesel Hybrid', 'Diesel/Petrol', 'Electric', 'Gas / Hybrid', 'Hybrid', 'Hybrid (Gas + Electric)', 'Hybrid (Petrol)', 'Hybrid / Plug-in', 'Hybrid/Electric', 'Hybrid/Petrol', 'Hydrogen', 'Petrol', 'Petrol (Hybrid)', 'Petrol, Diesel', 'Petrol, Hybrid', 'Petrol/AWD', 'Petrol/Diesel', 'Petrol/EV', 'Petrol/Hybrid', 'Plug-in Hybrid', 'plug in hyrbrid']\n",
            "Valor más frecuente: Petrol\n",
            "------------------------------------------------------------\n",
            "\n",
            "Columna: Seats\n",
            "Número de valores únicos: 19\n",
            "Valores únicos:\n",
            "['1', '12', '15', '2', '2+2', '20', '2\\x9612', '2\\x9615', '2\\x966', '2\\x967', '2\\x969', '3', '4', '5', '6', '7', '7\\x968', '8', '9']\n",
            "Valor más frecuente: 5\n",
            "------------------------------------------------------------\n",
            "\n",
            "Columna: Torque_in_Nm\n",
            "Número de valores únicos: 264\n",
            "Algunos valores únicos (muestra):\n",
            "['1,050 - 1,200 Nm', '1,064 Nm', '1,355 Nm', '1,400 Nm', '1,424 Nm', '10,000 Nm', '100 - 140 Nm', '100 - 180 Nm', '100 Nm', '1000 Nm', '1000+ Nm', '103 Nm', '105 Nm', '1050 Nm', '1051 Nm', '106 Nm', '110 Nm', '113 Nm', '113-200 Nm', '114 Nm']\n",
            "... y 244 valores más\n",
            "Valor más frecuente: 400 Nm\n",
            "------------------------------------------------------------\n"
          ]
        }
      ],
      "source": [
        "print(\"\\n\" + \"=\"*60)\n",
        "print(\"ANÁLISIS DE VALORES ÚNICOS POR COLUMNA\")\n",
        "print(\"=\"*60)\n",
        "\n",
        "for col in df.columns:\n",
        "    print(f\"\\nColumna: {col}\")\n",
        "\n",
        "    # Número de valores únicos\n",
        "    unique_count = df[col].n_unique()\n",
        "    print(f\"Número de valores únicos: {unique_count}\")\n",
        "\n",
        "    # Obtener valores únicos y ordenarlos con manejo de None\n",
        "    unique_values = df[col].unique().to_list()\n",
        "    unique_values.sort(key=lambda x: str(x))  # evita error con None\n",
        "\n",
        "    if unique_count <= 50:\n",
        "        print(\"Valores únicos:\")\n",
        "        print(unique_values)\n",
        "    else:\n",
        "        print(\"Algunos valores únicos (muestra):\")\n",
        "        print(unique_values[:20])\n",
        "        print(f\"... y {unique_count - 20} valores más\")\n",
        "\n",
        "    # Valor más frecuente\n",
        "    if unique_count > 0:\n",
        "        most_frequent = df[col].mode().to_list()[0]\n",
        "        print(f\"Valor más frecuente: {most_frequent}\")\n",
        "    else:\n",
        "        print(\"No hay valores en esta columna.\")\n",
        "\n",
        "    print(\"-\" * 60)"
      ]
    },
    {
      "cell_type": "markdown",
      "metadata": {
        "id": "Kry88ssfQlhc"
      },
      "source": [
        "#Limpieza\n",
        "\n",
        "Se realiza una limpieza de datos para garantizar que la base de datos sea funcional y consistente, lo que facilita el análisis y el trabajo posterior. Esta etapa incluye:\n",
        "\n",
        "Eliminación de valores nulos o inconsistentes: se revisan columnas importantes y se gestionan los registros incompletos para evitar errores en el análisis.\n",
        "\n",
        "Estandarización de nombres y formatos: se normalizan nombres de columnas, unidades de medida y formatos de texto para mantener la coherencia.\n",
        "\n",
        "Filtrado de datos irrelevantes: se eliminan columnas o registros que no aportan valor al análisis.\n",
        "\n",
        "Creación de identificadores únicos: se generan columnas de ID para cada registro, facilitando la referencia y manipulación de los datos.\n",
        "\n",
        "El objetivo final es tener un conjunto de datos limpio, organizado y listo para procesos de transformación, análisis o visualización de manera eficiente y confiable."
      ]
    },
    {
      "cell_type": "markdown",
      "metadata": {
        "id": "9DHEt-vcZSCt"
      },
      "source": [
        "## Modificacion Columna: Brands"
      ]
    },
    {
      "cell_type": "code",
      "execution_count": 110,
      "metadata": {
        "id": "M0gy66msVdEl"
      },
      "outputs": [],
      "source": [
        "df = df.with_columns(\n",
        "    (\n",
        "        pl.col(\"Brands\").str.slice(0, 1).str.to_uppercase() +\n",
        "        pl.col(\"Brands\").str.slice(1).str.to_lowercase()\n",
        "    ).alias(\"Brands\")\n",
        ")"
      ]
    },
    {
      "cell_type": "markdown",
      "metadata": {
        "id": "gQgjVS-qZww5"
      },
      "source": [
        "## Modificacion Columna: Engine Capacity in CC\n",
        "\n"
      ]
    },
    {
      "cell_type": "code",
      "execution_count": 111,
      "metadata": {
        "colab": {
          "base_uri": "https://localhost:8080/"
        },
        "id": "pB_eff2gZd7G",
        "outputId": "cbc54ae6-88c9-4a78-d0c5-983b3371b994"
      },
      "outputs": [
        {
          "name": "stdout",
          "output_type": "stream",
          "text": [
            "Valores no convertibles: 0\n"
          ]
        }
      ],
      "source": [
        "df = df.with_columns(\n",
        "    pl.col(\"Engine_capacity_in_cc\")\n",
        "    .cast(pl.Utf8)                        # Convertir a string primero\n",
        "    .str.replace_all(r\"[Cc]{1,2}\", \"\")    # Eliminar \"cc\" o \"CC\"\n",
        "    .str.replace_all(r\",\", \"\")             # Eliminar comas\n",
        "    .str.replace_all(r\"\\s*\\+.*\", \"\")      # Eliminar texto adicional\n",
        "    .str.strip_chars()                     # Limpiar espacios\n",
        "    .cast(pl.Int32, strict=False)          # Convertir a Int32, valores inválidos → null\n",
        "    .fill_null(0)                          # Reemplazar nulos con 0\n",
        "    .alias(\"Engine_capacity_in_cc\")\n",
        "\n",
        ")\n",
        "\n",
        "# Verificar nulos\n",
        "null_count = df[\"Engine_capacity_in_cc\"].null_count()\n",
        "print(f\"Valores no convertibles: {null_count}\")"
      ]
    },
    {
      "cell_type": "markdown",
      "metadata": {
        "id": "D0-jfzdpaGaF"
      },
      "source": [
        "## Modificacion Columna: HorsePower in HP"
      ]
    },
    {
      "cell_type": "code",
      "execution_count": 112,
      "metadata": {
        "id": "YZJKoB58aEMQ"
      },
      "outputs": [],
      "source": [
        "# Extraer ambos números potenciales en una sola operación\n",
        "df = df.with_columns([\n",
        "    pl.col(\"HorsePower_in_HP\")\n",
        "    .str.extract_groups(r\"(?P<first>\\d+)\\s*(?:-\\s*(?P<second>\\d+))?\\s*hp\")\n",
        "    .struct.rename_fields([\"HorsePower_in_HP\", \"HorsePower_in_HP_2\"])\n",
        "    .alias(\"temp\")\n",
        "])\n",
        "\n",
        "# Expandir la estructura y procesar los valores\n",
        "df = df.with_columns([\n",
        "    pl.col(\"temp\").struct.field(\"HorsePower_in_HP\").cast(pl.Int32),\n",
        "    pl.col(\"temp\").struct.field(\"HorsePower_in_HP_2\").cast(pl.Int32)\n",
        "]).drop(\"temp\")\n",
        "\n",
        "# Si el segundo valor es nulo, usar el primero\n",
        "df = df.with_columns(\n",
        "    pl.coalesce(pl.col(\"HorsePower_in_HP_2\"), pl.col(\"HorsePower_in_HP\")).alias(\"HorsePower_in_HP_2\")\n",
        ")\n",
        "\n",
        "# Construir nuevo orden de columnas\n",
        "cols = df.columns\n",
        "cols.remove(\"HorsePower_in_HP_2\")              # quitar 'id' de su posición actual\n",
        "cols.insert(6, \"HorsePower_in_HP_2\")           # insertar 'id' en la posición 7 (índice 6)\n",
        "\n",
        "# Reordenar\n",
        "df = df.select(cols)"
      ]
    },
    {
      "cell_type": "markdown",
      "metadata": {
        "id": "4l3sv6zsaljh"
      },
      "source": [
        "## Modificacion Columna: Price $"
      ]
    },
    {
      "cell_type": "code",
      "execution_count": 113,
      "metadata": {
        "id": "kNhbu7Ktam7c"
      },
      "outputs": [],
      "source": [
        "# Crear columnas Price_Min y Price_Max a partir de Price_$\n",
        "df = df.with_columns([\n",
        "\n",
        "    # Extraer el primer número (mínimo o único valor)\n",
        "    pl.col(\"Price_$\")\n",
        "      .str.strip_chars()                              # quitar espacios extras\n",
        "      .str.replace_all(r\"[\\$,]\", \"\", literal=False)   # quitar $ y ,\n",
        "      .str.extract(r\"(\\d+)\")                          # tomar primer número\n",
        "      .cast(pl.Float32)\n",
        "      .alias(\"Price_Min\"),\n",
        "\n",
        "    # Extraer el segundo número si hay rango\n",
        "    pl.col(\"Price_$\")\n",
        "      .str.strip_chars()\n",
        "      .str.replace_all(r\"[\\$,]\", \"\", literal=False)   # quitar $ y ,\n",
        "      .str.extract(r\"\\d+\\s*-\\s*(\\d+)\")                # capturar segundo número\n",
        "      .cast(pl.Float32)\n",
        "      .alias(\"Price_Max\")\n",
        "])\n",
        "\n",
        "# Si no hay rango, usar Price_Min como Price_Max\n",
        "df = df.with_columns(\n",
        "    pl.when(pl.col(\"Price_Max\").is_null())\n",
        "      .then(pl.col(\"Price_Min\"))\n",
        "      .otherwise(pl.col(\"Price_Max\"))\n",
        "      .alias(\"Price_Max\")\n",
        ")\n",
        "\n",
        "# Eliminar la columna original de texto\n",
        "df = df.drop(\"Price_$\")\n",
        "\n",
        "# Construir nuevo orden de columnas\n",
        "cols = df.columns\n",
        "cols.remove(\"Price_Min\")              # quitar 'id' de su posición actual\n",
        "cols.insert(9, \"Price_Min\")           # insertar 'id' en la posición 10 (índice 9)\n",
        "cols.remove(\"Price_Max\")              # quitar 'id' de su posición actual\n",
        "cols.insert(10, \"Price_Max\")           # insertar 'id' en la posición 10 (índice 11)\n",
        "\n",
        "# Reordenar\n",
        "df = df.select(cols)\n"
      ]
    },
    {
      "cell_type": "markdown",
      "metadata": {
        "id": "GhFeft5La8f4"
      },
      "source": [
        "## Modificacion Columna: Max speed in km/h"
      ]
    },
    {
      "cell_type": "code",
      "execution_count": 114,
      "metadata": {
        "id": "Mgb6km38bbba"
      },
      "outputs": [],
      "source": [
        "df = df.with_columns([\n",
        "    pl.col(\"Max_speed_in_km/h\")\n",
        "    .str.extract(r\"(\\d+)\")  # Captura el número\n",
        "    .cast(pl.Float32, strict=False)          # Convertir a entero\n",
        "    .alias(\"Max_speed_in_km/h\")\n",
        "])"
      ]
    },
    {
      "cell_type": "markdown",
      "metadata": {
        "id": "Akqdb96zbmqI"
      },
      "source": [
        "## Modificacion Columna: Time to 100kmph sec\n"
      ]
    },
    {
      "cell_type": "code",
      "execution_count": 115,
      "metadata": {
        "id": "0O0s_WJzbqVm"
      },
      "outputs": [],
      "source": [
        "df = df.with_columns([\n",
        "    pl.col(\"Time_to_100kmph_sec\")\n",
        "    .str.extract(r\"(\\d+(?:\\.\\d+)?)\")  # Captura el primer número decimal\n",
        "    .cast(pl.Float32, strict=False)    # Convertir a float, valores inválidos → null\n",
        "    .alias(\"Time_to_100kmph_sec\")\n",
        "])"
      ]
    },
    {
      "cell_type": "markdown",
      "metadata": {
        "id": "1OBNl4lRcAY7"
      },
      "source": [
        "## Modificacion Columna: Seats"
      ]
    },
    {
      "cell_type": "code",
      "execution_count": 116,
      "metadata": {
        "id": "Nnh5SiOub-c2"
      },
      "outputs": [],
      "source": [
        "df = df.with_columns([\n",
        "    pl.col(\"Seats\")\n",
        "    .str.extract(r\"(\\d+(?:\\.\\d+)?)\")  # Captura el primer número decimal\n",
        "    .cast(pl.Int32, strict=False)    # Convertir a float, valores inválidos → null\n",
        "    .alias(\"Seats\")\n",
        "])"
      ]
    },
    {
      "cell_type": "markdown",
      "metadata": {
        "id": "75kfrctRcPWn"
      },
      "source": [
        "## Modificacion Columna: Torque in Nm"
      ]
    },
    {
      "cell_type": "code",
      "execution_count": 117,
      "metadata": {
        "id": "sJd8q5s2cNDT"
      },
      "outputs": [],
      "source": [
        "df = df.with_columns([\n",
        "    # Primer número (valor mínimo)\n",
        "    pl.col(\"Torque_in_Nm\")\n",
        "    .str.extract(r\"(\\d+)\")           # Captura el primer número\n",
        "    .cast(pl.Int32)\n",
        "    .alias(\"Torque_in_Nm\"),\n",
        "\n",
        "    # Segundo número si existe rango\n",
        "    pl.col(\"Torque_in_Nm\")\n",
        "    .str.extract(r\"\\d+\\s*-\\s*(\\d+)\")  # Captura segundo número después de \"-\"\n",
        "    .cast(pl.Int32)\n",
        "    .alias(\"Torque_in_Nm_2_temp\")\n",
        "])\n",
        "\n",
        "# Reemplazar null por el primer número si no hay rango\n",
        "df = df.with_columns(\n",
        "    pl.when(pl.col(\"Torque_in_Nm_2_temp\").is_null())\n",
        "      .then(pl.col(\"Torque_in_Nm\"))\n",
        "      .otherwise(pl.col(\"Torque_in_Nm_2_temp\"))\n",
        "      .alias(\"Torque_in_Nm_2\")\n",
        ")\n",
        "\n",
        "# Eliminar columna temporal\n",
        "df = df.drop(\"Torque_in_Nm_2_temp\")\n"
      ]
    },
    {
      "cell_type": "markdown",
      "metadata": {
        "id": "XVNwBuQUcqok"
      },
      "source": [
        "## Modificacion Columna: Fuel"
      ]
    },
    {
      "cell_type": "code",
      "execution_count": 118,
      "metadata": {
        "colab": {
          "base_uri": "https://localhost:8080/"
        },
        "id": "v2kSQ1FHcqxj",
        "outputId": "28d3c146-b34a-4281-ed4f-03c0d03f90a1"
      },
      "outputs": [],
      "source": [
        "\n",
        "# Limpiar y dividir en lista\n",
        "df = df.with_columns([\n",
        "    pl.col(\"Fuel\")\n",
        "    .str.replace_all(r\"[()/,+]\", \" \")\n",
        "    .str.replace_all(r\"\\s+\", \" \")\n",
        "    .str.strip_chars()\n",
        "    .str.split(\" \")\n",
        "    .alias(\"Fuel_list\")\n",
        "])\n",
        "\n",
        "# Obtener el número máximo de elementos en Fuel_list\n",
        "max_len = df.select(\n",
        "    pl.col(\"Fuel_list\").list.len().max().alias(\"max_len\")\n",
        ").to_numpy()[0][0]\n",
        "\n",
        "# Convertir lista a struct\n",
        "df = df.with_columns(\n",
        "    pl.col(\"Fuel_list\").list.to_struct(upper_bound=max_len).alias(\"Fuel_struct\")\n",
        ")\n",
        "\n",
        "# Ahora unnest usando DataFrame.unnest()\n",
        "df = df.unnest(\"Fuel_struct\")\n",
        "\n",
        "# Renombrar columnas generadas\n",
        "df = df.rename({f\"field_{i}\": f\"Fuel_{i+1}\" for i in range(max_len)})\n",
        "\n",
        "# Eliminar columna original Fuel y la lista\n",
        "df = df.drop([\"Fuel\", \"Fuel_list\"])"
      ]
    },
    {
      "cell_type": "markdown",
      "metadata": {
        "id": "L-vJM0ypgCrm"
      },
      "source": [
        "##Mostrar la base de datos codificada y exportar el csv"
      ]
    },
    {
      "cell_type": "code",
      "execution_count": 119,
      "metadata": {
        "colab": {
          "base_uri": "https://localhost:8080/",
          "height": 344
        },
        "id": "rRKZcR6CdUVl",
        "outputId": "99cd4f66-174c-4536-d4be-dacecebe7718"
      },
      "outputs": [
        {
          "data": {
            "text/html": [
              "<div><style>\n",
              ".dataframe > thead > tr,\n",
              ".dataframe > tbody > tr {\n",
              "  text-align: right;\n",
              "  white-space: pre-wrap;\n",
              "}\n",
              "</style>\n",
              "<small>shape: (5, 17)</small><table border=\"1\" class=\"dataframe\"><thead><tr><th>id</th><th>Brands</th><th>Model</th><th>Engines</th><th>Engine_capacity_in_cc</th><th>HorsePower_in_HP</th><th>HorsePower_in_HP_2</th><th>Max_speed_in_km/h</th><th>Time_to_100kmph_sec</th><th>Price_Min</th><th>Price_Max</th><th>Seats</th><th>Torque_in_Nm</th><th>Torque_in_Nm_2</th><th>Fuel_1</th><th>Fuel_2</th><th>Fuel_3</th></tr><tr><td>i64</td><td>str</td><td>str</td><td>str</td><td>i32</td><td>i32</td><td>i32</td><td>f32</td><td>f32</td><td>f32</td><td>f32</td><td>i32</td><td>i32</td><td>i32</td><td>str</td><td>str</td><td>str</td></tr></thead><tbody><tr><td>0</td><td>&quot;Ferrari&quot;</td><td>&quot;SF90 STRADALE&quot;</td><td>&quot;V8&quot;</td><td>3990</td><td>963</td><td>963</td><td>340.0</td><td>2.5</td><td>1.1e6</td><td>1.1e6</td><td>2</td><td>800</td><td>800</td><td>&quot;plug&quot;</td><td>&quot;in&quot;</td><td>&quot;hyrbrid&quot;</td></tr><tr><td>1</td><td>&quot;Rolls royce&quot;</td><td>&quot;PHANTOM&quot;</td><td>&quot;V12&quot;</td><td>6749</td><td>563</td><td>563</td><td>250.0</td><td>5.3</td><td>460000.0</td><td>460000.0</td><td>5</td><td>900</td><td>900</td><td>&quot;Petrol&quot;</td><td>null</td><td>null</td></tr><tr><td>2</td><td>&quot;Ford&quot;</td><td>&quot;KA+&quot;</td><td>&quot;1.2L Petrol&quot;</td><td>1200</td><td>70</td><td>85</td><td>165.0</td><td>10.5</td><td>12000.0</td><td>15000.0</td><td>5</td><td>100</td><td>140</td><td>&quot;Petrol&quot;</td><td>null</td><td>null</td></tr><tr><td>3</td><td>&quot;Mercedes&quot;</td><td>&quot; GT 63 S&quot;</td><td>&quot;V8&quot;</td><td>3982</td><td>630</td><td>630</td><td>250.0</td><td>3.2</td><td>161000.0</td><td>161000.0</td><td>4</td><td>900</td><td>900</td><td>&quot;Petrol&quot;</td><td>null</td><td>null</td></tr><tr><td>4</td><td>&quot;Audi&quot;</td><td>&quot;AUDI R8 Gt&quot;</td><td>&quot;V10&quot;</td><td>5204</td><td>602</td><td>602</td><td>320.0</td><td>3.6</td><td>253290.0</td><td>253290.0</td><td>2</td><td>560</td><td>560</td><td>&quot;Petrol&quot;</td><td>null</td><td>null</td></tr></tbody></table></div>"
            ],
            "text/plain": [
              "shape: (5, 17)\n",
              "┌─────┬─────────────┬───────────────┬─────────────┬───┬────────────────┬────────┬────────┬─────────┐\n",
              "│ id  ┆ Brands      ┆ Model         ┆ Engines     ┆ … ┆ Torque_in_Nm_2 ┆ Fuel_1 ┆ Fuel_2 ┆ Fuel_3  │\n",
              "│ --- ┆ ---         ┆ ---           ┆ ---         ┆   ┆ ---            ┆ ---    ┆ ---    ┆ ---     │\n",
              "│ i64 ┆ str         ┆ str           ┆ str         ┆   ┆ i32            ┆ str    ┆ str    ┆ str     │\n",
              "╞═════╪═════════════╪═══════════════╪═════════════╪═══╪════════════════╪════════╪════════╪═════════╡\n",
              "│ 0   ┆ Ferrari     ┆ SF90 STRADALE ┆ V8          ┆ … ┆ 800            ┆ plug   ┆ in     ┆ hyrbrid │\n",
              "│ 1   ┆ Rolls royce ┆ PHANTOM       ┆ V12         ┆ … ┆ 900            ┆ Petrol ┆ null   ┆ null    │\n",
              "│ 2   ┆ Ford        ┆ KA+           ┆ 1.2L Petrol ┆ … ┆ 140            ┆ Petrol ┆ null   ┆ null    │\n",
              "│ 3   ┆ Mercedes    ┆  GT 63 S      ┆ V8          ┆ … ┆ 900            ┆ Petrol ┆ null   ┆ null    │\n",
              "│ 4   ┆ Audi        ┆ AUDI R8 Gt    ┆ V10         ┆ … ┆ 560            ┆ Petrol ┆ null   ┆ null    │\n",
              "└─────┴─────────────┴───────────────┴─────────────┴───┴────────────────┴────────┴────────┴─────────┘"
            ]
          },
          "execution_count": 119,
          "metadata": {},
          "output_type": "execute_result"
        }
      ],
      "source": [
        "# Mostrar primeras filas\n",
        "df.head()"
      ]
    },
    {
      "cell_type": "code",
      "execution_count": null,
      "metadata": {
        "id": "lAlAUgTFgHKz"
      },
      "outputs": [],
      "source": [
        "# Ruta de destino\n",
        "output_path = r\"C:\\Users\\Coder\\Documents\\REGRESIONES\\F5ProjectV_ProblemaDeRegresion\\data\\dataset_modelado_optimizado.csv\"\n",
        "\n",
        "# Exportar CSV\n",
        "df.write_csv(output_path)"
      ]
    }
  ],
  "metadata": {
    "colab": {
      "provenance": []
    },
    "kernelspec": {
      "display_name": ".venv",
      "language": "python",
      "name": "python3"
    },
    "language_info": {
      "codemirror_mode": {
        "name": "ipython",
        "version": 3
      },
      "file_extension": ".py",
      "mimetype": "text/x-python",
      "name": "python",
      "nbconvert_exporter": "python",
      "pygments_lexer": "ipython3",
      "version": "3.13.5"
    }
  },
  "nbformat": 4,
  "nbformat_minor": 0
}
